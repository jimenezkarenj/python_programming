{
 "cells": [
  {
   "cell_type": "markdown",
   "metadata": {},
   "source": [
    "# Gaining efficiences\n",
    "### Writing Efficient Python Code\n",
    "#### Skill track : Python Programming\n",
    "#### DataCamp\n",
    "#### Karen Jimenez"
   ]
  },
  {
   "cell_type": "code",
   "execution_count": 17,
   "metadata": {},
   "outputs": [],
   "source": [
    "import numpy as np\n",
    "\n",
    "#Read files\n",
    "f_names = 'names.txt'\n",
    "f_primary_types = 'primary_types.txt'\n",
    "f_secondary_types = 'secondary_types.txt'\n",
    "\n",
    "names = np.loadtxt(f_names, delimiter=',', dtype=str)\n",
    "primary_types = np.loadtxt(f_primary_types, delimiter=',', dtype=str)\n",
    "secondary_types = np.loadtxt(f_secondary_types, delimiter=',', dtype=str)"
   ]
  },
  {
   "cell_type": "markdown",
   "metadata": {},
   "source": [
    "## Combining Pokémon names and types"
   ]
  },
  {
   "cell_type": "code",
   "execution_count": 18,
   "metadata": {},
   "outputs": [
    {
     "name": "stdout",
     "output_type": "stream",
     "text": [
      "('Abomasnow', 'Grass')\n",
      "('Abra', 'Psychic')\n",
      "('Absol', 'Dark')\n",
      "('Accelgor', 'Bug')\n",
      "('Aerodactyl', 'Rock')\n"
     ]
    }
   ],
   "source": [
    "# Combine names and primary_types\n",
    "names_type1 = [*zip(names, primary_types)]\n",
    "\n",
    "print(*names_type1[:5], sep='\\n')"
   ]
  },
  {
   "cell_type": "code",
   "execution_count": 19,
   "metadata": {},
   "outputs": [
    {
     "name": "stdout",
     "output_type": "stream",
     "text": [
      "('Abomasnow', 'Grass', 'Ice')\n",
      "('Abra', 'Psychic', 'nan')\n",
      "('Absol', 'Dark', 'nan')\n",
      "('Accelgor', 'Bug', 'nan')\n",
      "('Aerodactyl', 'Rock', 'Flying')\n"
     ]
    }
   ],
   "source": [
    "# Combine all three lists together\n",
    "names_types = [*zip(names, primary_types, secondary_types)]\n",
    "\n",
    "print(*names_types[:5], sep='\\n')"
   ]
  },
  {
   "cell_type": "code",
   "execution_count": 20,
   "metadata": {},
   "outputs": [
    {
     "name": "stdout",
     "output_type": "stream",
     "text": [
      "('Abomasnow', 'Grass')\n",
      "('Abra', 'Psychic')\n",
      "('Absol', 'Dark')\n"
     ]
    }
   ],
   "source": [
    "# Combine five items from names and three items from primary_types\n",
    "differing_lengths = [*zip(names[:5], primary_types[:3])]\n",
    "\n",
    "print(*differing_lengths, sep='\\n')"
   ]
  },
  {
   "cell_type": "markdown",
   "metadata": {},
   "source": [
    "# Counting Pokémon from a sample"
   ]
  },
  {
   "cell_type": "code",
   "execution_count": 23,
   "metadata": {},
   "outputs": [],
   "source": [
    "#Import Counter from collections\n",
    "from collections import Counter\n",
    "\n",
    "#Read files\n",
    "f_generations = 'generations.txt'\n",
    "generations = np.loadtxt(f_generations, delimiter=',', dtype=str)"
   ]
  },
  {
   "cell_type": "code",
   "execution_count": 53,
   "metadata": {},
   "outputs": [
    {
     "name": "stdout",
     "output_type": "stream",
     "text": [
      "Counter({'Water': 105, 'Normal': 92, 'Bug': 65, 'Grass': 64, 'Fire': 48, 'Psychic': 46, 'Rock': 41, 'Electric': 40, 'Ground': 30, 'Dark': 28, 'Poison': 28, 'Dragon': 25, 'Fighting': 25, 'Ice': 23, 'Steel': 21, 'Ghost': 20, 'Fairy': 17, 'Flying': 2}) \n",
      "\n",
      "Counter({'5': 122, '3': 103, '1': 99, '4': 78, '2': 51, '6': 47}) \n",
      "\n",
      "Counter({'S': 102, 'M': 58, 'C': 55, 'P': 47, 'G': 46, 'D': 41, 'B': 39, 'T': 35, 'L': 33, 'A': 32, 'R': 30, 'H': 27, 'F': 25, 'K': 25, 'W': 23, 'V': 22, 'E': 21, 'N': 16, 'Z': 9, 'J': 7, 'O': 6, 'I': 5, 'U': 5, 'Q': 4, 'Y': 4, 'X': 2, '\"': 1})\n"
     ]
    }
   ],
   "source": [
    "# Collect the count of primary types\n",
    "type_count = Counter(primary_types)\n",
    "print(type_count, '\\n')\n",
    "\n",
    "# Collect the count of generations\n",
    "gen_count = Counter(generations)\n",
    "print(gen_count, '\\n')\n",
    "\n",
    "# Use list comprehension to get each Pokémon's starting letter\n",
    "starting_letters = [letter[0] for letter in names]\n",
    "\n",
    "# Collect the count of Pokémon for each starting_letter\n",
    "starting_letters_count = Counter(letter[0] for letter in names)\n",
    "print(starting_letters_count)"
   ]
  },
  {
   "cell_type": "markdown",
   "metadata": {},
   "source": [
    "## Combinations of Pokémon"
   ]
  },
  {
   "cell_type": "code",
   "execution_count": 29,
   "metadata": {},
   "outputs": [],
   "source": [
    "# Import combinations from itertools\n",
    "from itertools import combinations\n",
    "pokemon = ['Geodude', 'Cubone', 'Lickitung', 'Persian', 'Diglett']"
   ]
  },
  {
   "cell_type": "code",
   "execution_count": 32,
   "metadata": {},
   "outputs": [
    {
     "name": "stdout",
     "output_type": "stream",
     "text": [
      "<class 'itertools.combinations'> \n",
      "\n",
      "[('Geodude', 'Cubone'), ('Geodude', 'Lickitung'), ('Geodude', 'Persian'), ('Geodude', 'Diglett'), ('Cubone', 'Lickitung'), ('Cubone', 'Persian'), ('Cubone', 'Diglett'), ('Lickitung', 'Persian'), ('Lickitung', 'Diglett'), ('Persian', 'Diglett')] \n",
      "\n",
      "[('Geodude', 'Cubone', 'Lickitung', 'Persian'), ('Geodude', 'Cubone', 'Lickitung', 'Diglett'), ('Geodude', 'Cubone', 'Persian', 'Diglett'), ('Geodude', 'Lickitung', 'Persian', 'Diglett'), ('Cubone', 'Lickitung', 'Persian', 'Diglett')]\n"
     ]
    }
   ],
   "source": [
    "# Create a combination object with pairs of Pokémon\n",
    "combos_obj = combinations(pokemon, 2)\n",
    "print(type(combos_obj), '\\n')\n",
    "\n",
    "# Convert combos_obj to a list by unpacking\n",
    "combos_2 = [*combos_obj]\n",
    "print(combos_2, '\\n')\n",
    "\n",
    "# Collect all possible combinations of 4 Pokémon directly into a list\n",
    "combos_4 = [*combinations(pokemon, 4)]\n",
    "print(combos_4)"
   ]
  },
  {
   "cell_type": "markdown",
   "metadata": {},
   "source": [
    "## Comparing Pokédexes"
   ]
  },
  {
   "cell_type": "code",
   "execution_count": 62,
   "metadata": {},
   "outputs": [],
   "source": [
    "#List pokedex from pokémon trainers\n",
    "ash_pokedex = ['Pikachu', 'Bulbasaur', 'Koffing', 'Spearow', 'Vulpix', 'Wigglytuff', 'Zubat', 'Rattata', 'Psyduck', 'Squirtle'] \n",
    "misty_pokedex = ['Krabby', 'Horsea', 'Slowbro', 'Tentacool', 'Vaporeon', 'Magikarp', 'Poliwag', 'Starmie', 'Psyduck', 'Squirtle']\n",
    "brock_pokedex = ['Onix', 'Geodude', 'Zubat', 'Golem', 'Vulpix', 'Tauros', 'Kabutops', 'Omastar', 'Machop', 'Dugtrio']"
   ]
  },
  {
   "cell_type": "code",
   "execution_count": 63,
   "metadata": {},
   "outputs": [
    {
     "name": "stdout",
     "output_type": "stream",
     "text": [
      "Pokémon in both pokedex: \n",
      " {'Psyduck', 'Squirtle'} \n",
      "\n",
      "Misty doesn't have those Pokémon:\n",
      " {'Spearow', 'Pikachu', 'Bulbasaur', 'Zubat', 'Rattata', 'Koffing', 'Wigglytuff', 'Vulpix'} \n",
      "\n",
      "Pokémon that are in only one set (not both):\n",
      " {'Starmie', 'Wigglytuff', 'Spearow', 'Pikachu', 'Bulbasaur', 'Magikarp', 'Horsea', 'Zubat', 'Rattata', 'Vaporeon', 'Tentacool', 'Poliwag', 'Krabby', 'Slowbro', 'Koffing', 'Vulpix'} \n",
      "\n"
     ]
    }
   ],
   "source": [
    "# Convert both lists to sets\n",
    "ash_set = set(ash_pokedex)\n",
    "misty_set = set(misty_pokedex)\n",
    "\n",
    "# Find the Pokémon that exist in both sets\n",
    "both = ash_set.intersection(misty_set)\n",
    "print(\"Pokémon in both pokedex:\", '\\n', both, '\\n')\n",
    "\n",
    "# Find the Pokémon that Ash has and Misty does not have\n",
    "ash_only = ash_set.difference(misty_set)\n",
    "print(\"Misty doesn't have those Pokémon:\" '\\n', ash_only, '\\n')\n",
    "\n",
    "# Find the Pokémon that are in only one set (not both)\n",
    "unique_to_set = ash_set.symmetric_difference(misty_set)\n",
    "print(\"Pokémon that are in only one set (not both):\" '\\n', unique_to_set, '\\n', )"
   ]
  },
  {
   "cell_type": "markdown",
   "metadata": {},
   "source": [
    "## Searching for Pokémon"
   ]
  },
  {
   "cell_type": "code",
   "execution_count": 67,
   "metadata": {},
   "outputs": [
    {
     "name": "stdout",
     "output_type": "stream",
     "text": [
      "{'Kabutops', 'Geodude', 'Tauros', 'Onix', 'Zubat', 'Omastar', 'Machop', 'Golem', 'Vulpix', 'Dugtrio'}\n",
      "True\n",
      "False\n",
      "False\n",
      "True\n"
     ]
    }
   ],
   "source": [
    "# Convert Brock's Pokédex to a set\n",
    "brock_pokedex_set = set(brock_pokedex)\n",
    "print(brock_pokedex_set)\n",
    "\n",
    "# Check if Psyduck is in Ash's list and Brock's set\n",
    "print('Psyduck' in ash_pokedex)\n",
    "print('Psyduck' in brock_pokedex)\n",
    "\n",
    "# Check if Machop is in Ash's list and Brock's set\n",
    "print('Machop' in ash_pokedex)\n",
    "print('Machop' in brock_pokedex)"
   ]
  },
  {
   "cell_type": "code",
   "execution_count": null,
   "metadata": {},
   "outputs": [],
   "source": []
  }
 ],
 "metadata": {
  "kernelspec": {
   "display_name": "Python 3",
   "language": "python",
   "name": "python3"
  },
  "language_info": {
   "codemirror_mode": {
    "name": "ipython",
    "version": 3
   },
   "file_extension": ".py",
   "mimetype": "text/x-python",
   "name": "python",
   "nbconvert_exporter": "python",
   "pygments_lexer": "ipython3",
   "version": "3.7.7"
  }
 },
 "nbformat": 4,
 "nbformat_minor": 4
}
