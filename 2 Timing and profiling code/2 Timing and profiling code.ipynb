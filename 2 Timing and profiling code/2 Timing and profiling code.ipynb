{
 "cells": [
  {
   "cell_type": "markdown",
   "metadata": {},
   "source": [
    "# Timing and profiling code\n",
    "### Writing Efficient Python Code\n",
    "#### Skill track : Python Programming\n",
    "#### DataCamp\n",
    "#### Karen Jimenez"
   ]
  },
  {
   "cell_type": "markdown",
   "metadata": {},
   "source": [
    "## Using %timeit"
   ]
  },
  {
   "cell_type": "code",
   "execution_count": 1,
   "metadata": {},
   "outputs": [
    {
     "name": "stdout",
     "output_type": "stream",
     "text": [
      "[0, 1, 2, 3, 4, 5, 6, 7, 8, 9, 10, 11, 12, 13, 14, 15, 16, 17, 18, 19, 20, 21, 22, 23, 24, 25, 26, 27, 28, 29, 30, 31, 32, 33, 34, 35, 36, 37, 38, 39, 40, 41, 42, 43, 44, 45, 46, 47, 48, 49, 50]\n",
      "1 µs ± 26.2 ns per loop (mean ± std. dev. of 7 runs, 1000000 loops each)\n"
     ]
    }
   ],
   "source": [
    "# Create a list of integers (0-50) using list comprehension\n",
    "nums_list_comp = [num for num in range(51)]\n",
    "print(nums_list_comp)\n",
    "%timeit [num for num in range(51)]"
   ]
  },
  {
   "cell_type": "code",
   "execution_count": 2,
   "metadata": {},
   "outputs": [
    {
     "name": "stdout",
     "output_type": "stream",
     "text": [
      "[0, 1, 2, 3, 4, 5, 6, 7, 8, 9, 10, 11, 12, 13, 14, 15, 16, 17, 18, 19, 20, 21, 22, 23, 24, 25, 26, 27, 28, 29, 30, 31, 32, 33, 34, 35, 36, 37, 38, 39, 40, 41, 42, 43, 44, 45, 46, 47, 48, 49, 50]\n",
      "998 ns ± 32.7 ns per loop (mean ± std. dev. of 7 runs, 1000000 loops each)\n"
     ]
    }
   ],
   "source": [
    "# Create a list of integers (0-50) by unpacking range\n",
    "nums_unpack = [*range(51)]\n",
    "print(nums_unpack)\n",
    "%timeit [num for num in range(51)]"
   ]
  },
  {
   "cell_type": "markdown",
   "metadata": {},
   "source": [
    "--- ---"
   ]
  },
  {
   "cell_type": "markdown",
   "metadata": {},
   "source": [
    "_**Unpacking the range object was faster than list comprehension.** Although list comprehension is a useful and powerful tool, sometimes unpacking an object can save time and looks a little cleaner._"
   ]
  },
  {
   "cell_type": "markdown",
   "metadata": {},
   "source": [
    "---"
   ]
  },
  {
   "cell_type": "markdown",
   "metadata": {},
   "source": [
    "## Using %timeit: specifying number of runs and loops"
   ]
  },
  {
   "cell_type": "code",
   "execution_count": 3,
   "metadata": {},
   "outputs": [
    {
     "name": "stdout",
     "output_type": "stream",
     "text": [
      "327 ns ± 56.3 ns per loop (mean ± std. dev. of 5 runs, 25 loops each)\n"
     ]
    }
   ],
   "source": [
    "#Read heroes file\n",
    "import csv\n",
    "\n",
    "with open(\"heroes.csv\", \"r\") as csv_file:\n",
    "    heroes_csv = csv.reader(csv_file, delimiter=',')\n",
    "    for line in heroes_csv:\n",
    "        heroes_list = line[0]\n",
    "        \n",
    "%timeit -r5 -n25 set(heroes_list)"
   ]
  },
  {
   "cell_type": "markdown",
   "metadata": {},
   "source": [
    "--- ---"
   ]
  },
  {
   "cell_type": "markdown",
   "metadata": {},
   "source": [
    "_**%timeit** lets you specify the number of runs and number of loops you want to consider with the -r and -n flags. You can use -r5 and -n25 to specify 5 iterations each with 25 loops when calculating the average and standard deviation of runtime for your code._"
   ]
  },
  {
   "cell_type": "markdown",
   "metadata": {},
   "source": [
    "---"
   ]
  },
  {
   "cell_type": "markdown",
   "metadata": {},
   "source": [
    "## Using %timeit: formal name or literal syntax"
   ]
  },
  {
   "cell_type": "code",
   "execution_count": 4,
   "metadata": {},
   "outputs": [
    {
     "name": "stdout",
     "output_type": "stream",
     "text": [
      "[]\n",
      "<class 'list'>\n",
      "13.9 ns ± 1.98 ns per loop (mean ± std. dev. of 7 runs, 100000000 loops each)\n"
     ]
    }
   ],
   "source": [
    "# Create a list using the formal name\n",
    "formal_list = list()\n",
    "print(formal_list)\n",
    "\n",
    "# Print out the type of formal_list\n",
    "print(type(formal_list))\n",
    "\n",
    "%timeit formal_list            "
   ]
  },
  {
   "cell_type": "code",
   "execution_count": 5,
   "metadata": {
    "scrolled": false
   },
   "outputs": [
    {
     "name": "stdout",
     "output_type": "stream",
     "text": [
      "[]\n",
      "<class 'list'>\n",
      "14.2 ns ± 0.137 ns per loop (mean ± std. dev. of 7 runs, 100000000 loops each)\n"
     ]
    }
   ],
   "source": [
    "# Create a list using the literal syntax\n",
    "literal_list = []\n",
    "print(literal_list)\n",
    "\n",
    "# Print out the type of literal_list\n",
    "print(type(literal_list))\n",
    "\n",
    "%timeit literal_list"
   ]
  }
 ],
 "metadata": {
  "kernelspec": {
   "display_name": "Python 3",
   "language": "python",
   "name": "python3"
  },
  "language_info": {
   "codemirror_mode": {
    "name": "ipython",
    "version": 3
   },
   "file_extension": ".py",
   "mimetype": "text/x-python",
   "name": "python",
   "nbconvert_exporter": "python",
   "pygments_lexer": "ipython3",
   "version": "3.7.7"
  }
 },
 "nbformat": 4,
 "nbformat_minor": 4
}
